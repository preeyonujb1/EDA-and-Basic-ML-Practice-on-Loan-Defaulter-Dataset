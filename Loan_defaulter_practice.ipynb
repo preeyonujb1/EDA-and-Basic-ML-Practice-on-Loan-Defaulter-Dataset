{
 "cells": [
  {
   "cell_type": "markdown",
   "metadata": {},
   "source": [
    "## Introduction"
   ]
  },
  {
   "cell_type": "markdown",
   "metadata": {},
   "source": [
    "The data set HMEQ reports characteristics and delinquency information for 5,960 home equity loans. A home equity loan is a loan where the obligor uses the equity of his or her home as the underlying collateral."
   ]
  },
  {
   "cell_type": "markdown",
   "metadata": {},
   "source": [
    "The data set has the following characteristics:"
   ]
  },
  {
   "cell_type": "markdown",
   "metadata": {},
   "source": [
    "BAD: 1 = applicant defaulted on loan or seriously delinquent; 0 = applicant paid loan"
   ]
  },
  {
   "cell_type": "markdown",
   "metadata": {},
   "source": [
    "LOAN: Amount of the loan request"
   ]
  },
  {
   "cell_type": "markdown",
   "metadata": {},
   "source": [
    "MORTDUE: Amount due on existing mortgage"
   ]
  },
  {
   "cell_type": "markdown",
   "metadata": {},
   "source": [
    "VALUE: Value of current property"
   ]
  },
  {
   "cell_type": "markdown",
   "metadata": {},
   "source": [
    "REASON: DebtCon = debt consolidation; HomeImp = home improvement"
   ]
  },
  {
   "cell_type": "markdown",
   "metadata": {},
   "source": [
    "JOB: Occupational categories"
   ]
  },
  {
   "cell_type": "markdown",
   "metadata": {},
   "source": [
    "YOJ: Years at present job"
   ]
  },
  {
   "cell_type": "markdown",
   "metadata": {},
   "source": [
    "DEROG: Number of major derogatory reports"
   ]
  },
  {
   "cell_type": "markdown",
   "metadata": {},
   "source": [
    "DELINQ: Number of delinquent credit lines"
   ]
  },
  {
   "cell_type": "markdown",
   "metadata": {},
   "source": [
    "CLAGE: Age of oldest credit line in months"
   ]
  },
  {
   "cell_type": "markdown",
   "metadata": {},
   "source": [
    "NINQ: Number of recent credit inquiries"
   ]
  },
  {
   "cell_type": "markdown",
   "metadata": {},
   "source": [
    "CLNO: Number of credit lines"
   ]
  },
  {
   "cell_type": "markdown",
   "metadata": {},
   "source": [
    "DEBTINC: Debt-to-income ratio"
   ]
  },
  {
   "cell_type": "markdown",
   "metadata": {},
   "source": [
    "## Import and load"
   ]
  },
  {
   "cell_type": "code",
   "execution_count": 71,
   "metadata": {
    "collapsed": true
   },
   "outputs": [],
   "source": [
    "import pandas as pd\n",
    "import matplotlib.pyplot as plt\n",
    "import seaborn as sns\n",
    "%matplotlib inline"
   ]
  },
  {
   "cell_type": "code",
   "execution_count": 72,
   "metadata": {
    "collapsed": true
   },
   "outputs": [],
   "source": [
    "import ipywidgets as widgets\n",
    "from ipywidgets import interact, interact_manual"
   ]
  },
  {
   "cell_type": "code",
   "execution_count": 73,
   "metadata": {},
   "outputs": [
    {
     "data": {
      "text/html": [
       "<script type=\"text/javascript\">window.PlotlyConfig = {MathJaxConfig: 'local'};</script><script type=\"text/javascript\">if (window.MathJax) {MathJax.Hub.Config({SVG: {font: \"STIX-Web\"}});}</script><script>requirejs.config({paths: { 'plotly': ['https://cdn.plot.ly/plotly-latest.min']},});if(!window._Plotly) {require(['plotly'],function(plotly) {window._Plotly=plotly;});}</script>"
      ],
      "text/vnd.plotly.v1+html": [
       "<script type=\"text/javascript\">window.PlotlyConfig = {MathJaxConfig: 'local'};</script><script type=\"text/javascript\">if (window.MathJax) {MathJax.Hub.Config({SVG: {font: \"STIX-Web\"}});}</script><script>requirejs.config({paths: { 'plotly': ['https://cdn.plot.ly/plotly-latest.min']},});if(!window._Plotly) {require(['plotly'],function(plotly) {window._Plotly=plotly;});}</script>"
      ]
     },
     "metadata": {},
     "output_type": "display_data"
    },
    {
     "data": {
      "text/html": [
       "<script type=\"text/javascript\">window.PlotlyConfig = {MathJaxConfig: 'local'};</script><script type=\"text/javascript\">if (window.MathJax) {MathJax.Hub.Config({SVG: {font: \"STIX-Web\"}});}</script><script>requirejs.config({paths: { 'plotly': ['https://cdn.plot.ly/plotly-latest.min']},});if(!window._Plotly) {require(['plotly'],function(plotly) {window._Plotly=plotly;});}</script>"
      ],
      "text/vnd.plotly.v1+html": [
       "<script type=\"text/javascript\">window.PlotlyConfig = {MathJaxConfig: 'local'};</script><script type=\"text/javascript\">if (window.MathJax) {MathJax.Hub.Config({SVG: {font: \"STIX-Web\"}});}</script><script>requirejs.config({paths: { 'plotly': ['https://cdn.plot.ly/plotly-latest.min']},});if(!window._Plotly) {require(['plotly'],function(plotly) {window._Plotly=plotly;});}</script>"
      ]
     },
     "metadata": {},
     "output_type": "display_data"
    }
   ],
   "source": [
    "import plotly.plotly as py\n",
    "import plotly.graph_objs as go\n",
    "from plotly.offline import iplot, init_notebook_mode\n",
    "init_notebook_mode(connected=True)\n",
    "\n",
    "import cufflinks as cf\n",
    "cf.go_offline(connected=True)\n",
    "cf.set_config_file(colorscale='plotly', world_readable=True)\n",
    "\n",
    "# Extra options\n",
    "pd.options.display.max_rows = 30\n",
    "pd.options.display.max_columns = 25\n",
    "\n",
    "# Show all code cells outputs\n",
    "from IPython.core.interactiveshell import InteractiveShell\n",
    "InteractiveShell.ast_node_interactivity = 'all'\n",
    "\n",
    "import missingno"
   ]
  },
  {
   "cell_type": "code",
   "execution_count": 74,
   "metadata": {},
   "outputs": [],
   "source": [
    "df = pd.read_csv(\"hmeq.csv\")"
   ]
  },
  {
   "cell_type": "code",
   "execution_count": 75,
   "metadata": {},
   "outputs": [
    {
     "data": {
      "text/html": [
       "<div>\n",
       "<style scoped>\n",
       "    .dataframe tbody tr th:only-of-type {\n",
       "        vertical-align: middle;\n",
       "    }\n",
       "\n",
       "    .dataframe tbody tr th {\n",
       "        vertical-align: top;\n",
       "    }\n",
       "\n",
       "    .dataframe thead th {\n",
       "        text-align: right;\n",
       "    }\n",
       "</style>\n",
       "<table border=\"1\" class=\"dataframe\">\n",
       "  <thead>\n",
       "    <tr style=\"text-align: right;\">\n",
       "      <th></th>\n",
       "      <th>BAD</th>\n",
       "      <th>LOAN</th>\n",
       "      <th>MORTDUE</th>\n",
       "      <th>VALUE</th>\n",
       "      <th>REASON</th>\n",
       "      <th>JOB</th>\n",
       "      <th>YOJ</th>\n",
       "      <th>DEROG</th>\n",
       "      <th>DELINQ</th>\n",
       "      <th>CLAGE</th>\n",
       "      <th>NINQ</th>\n",
       "      <th>CLNO</th>\n",
       "      <th>DEBTINC</th>\n",
       "    </tr>\n",
       "  </thead>\n",
       "  <tbody>\n",
       "    <tr>\n",
       "      <th>0</th>\n",
       "      <td>1</td>\n",
       "      <td>1100</td>\n",
       "      <td>25860.0</td>\n",
       "      <td>39025.0</td>\n",
       "      <td>HomeImp</td>\n",
       "      <td>Other</td>\n",
       "      <td>10.5</td>\n",
       "      <td>0.0</td>\n",
       "      <td>0.0</td>\n",
       "      <td>94.366667</td>\n",
       "      <td>1.0</td>\n",
       "      <td>9.0</td>\n",
       "      <td>NaN</td>\n",
       "    </tr>\n",
       "    <tr>\n",
       "      <th>1</th>\n",
       "      <td>1</td>\n",
       "      <td>1300</td>\n",
       "      <td>70053.0</td>\n",
       "      <td>68400.0</td>\n",
       "      <td>HomeImp</td>\n",
       "      <td>Other</td>\n",
       "      <td>7.0</td>\n",
       "      <td>0.0</td>\n",
       "      <td>2.0</td>\n",
       "      <td>121.833333</td>\n",
       "      <td>0.0</td>\n",
       "      <td>14.0</td>\n",
       "      <td>NaN</td>\n",
       "    </tr>\n",
       "    <tr>\n",
       "      <th>2</th>\n",
       "      <td>1</td>\n",
       "      <td>1500</td>\n",
       "      <td>13500.0</td>\n",
       "      <td>16700.0</td>\n",
       "      <td>HomeImp</td>\n",
       "      <td>Other</td>\n",
       "      <td>4.0</td>\n",
       "      <td>0.0</td>\n",
       "      <td>0.0</td>\n",
       "      <td>149.466667</td>\n",
       "      <td>1.0</td>\n",
       "      <td>10.0</td>\n",
       "      <td>NaN</td>\n",
       "    </tr>\n",
       "    <tr>\n",
       "      <th>3</th>\n",
       "      <td>1</td>\n",
       "      <td>1500</td>\n",
       "      <td>NaN</td>\n",
       "      <td>NaN</td>\n",
       "      <td>NaN</td>\n",
       "      <td>NaN</td>\n",
       "      <td>NaN</td>\n",
       "      <td>NaN</td>\n",
       "      <td>NaN</td>\n",
       "      <td>NaN</td>\n",
       "      <td>NaN</td>\n",
       "      <td>NaN</td>\n",
       "      <td>NaN</td>\n",
       "    </tr>\n",
       "    <tr>\n",
       "      <th>4</th>\n",
       "      <td>0</td>\n",
       "      <td>1700</td>\n",
       "      <td>97800.0</td>\n",
       "      <td>112000.0</td>\n",
       "      <td>HomeImp</td>\n",
       "      <td>Office</td>\n",
       "      <td>3.0</td>\n",
       "      <td>0.0</td>\n",
       "      <td>0.0</td>\n",
       "      <td>93.333333</td>\n",
       "      <td>0.0</td>\n",
       "      <td>14.0</td>\n",
       "      <td>NaN</td>\n",
       "    </tr>\n",
       "    <tr>\n",
       "      <th>5</th>\n",
       "      <td>1</td>\n",
       "      <td>1700</td>\n",
       "      <td>30548.0</td>\n",
       "      <td>40320.0</td>\n",
       "      <td>HomeImp</td>\n",
       "      <td>Other</td>\n",
       "      <td>9.0</td>\n",
       "      <td>0.0</td>\n",
       "      <td>0.0</td>\n",
       "      <td>101.466002</td>\n",
       "      <td>1.0</td>\n",
       "      <td>8.0</td>\n",
       "      <td>37.113614</td>\n",
       "    </tr>\n",
       "    <tr>\n",
       "      <th>6</th>\n",
       "      <td>1</td>\n",
       "      <td>1800</td>\n",
       "      <td>48649.0</td>\n",
       "      <td>57037.0</td>\n",
       "      <td>HomeImp</td>\n",
       "      <td>Other</td>\n",
       "      <td>5.0</td>\n",
       "      <td>3.0</td>\n",
       "      <td>2.0</td>\n",
       "      <td>77.100000</td>\n",
       "      <td>1.0</td>\n",
       "      <td>17.0</td>\n",
       "      <td>NaN</td>\n",
       "    </tr>\n",
       "    <tr>\n",
       "      <th>7</th>\n",
       "      <td>1</td>\n",
       "      <td>1800</td>\n",
       "      <td>28502.0</td>\n",
       "      <td>43034.0</td>\n",
       "      <td>HomeImp</td>\n",
       "      <td>Other</td>\n",
       "      <td>11.0</td>\n",
       "      <td>0.0</td>\n",
       "      <td>0.0</td>\n",
       "      <td>88.766030</td>\n",
       "      <td>0.0</td>\n",
       "      <td>8.0</td>\n",
       "      <td>36.884894</td>\n",
       "    </tr>\n",
       "    <tr>\n",
       "      <th>8</th>\n",
       "      <td>1</td>\n",
       "      <td>2000</td>\n",
       "      <td>32700.0</td>\n",
       "      <td>46740.0</td>\n",
       "      <td>HomeImp</td>\n",
       "      <td>Other</td>\n",
       "      <td>3.0</td>\n",
       "      <td>0.0</td>\n",
       "      <td>2.0</td>\n",
       "      <td>216.933333</td>\n",
       "      <td>1.0</td>\n",
       "      <td>12.0</td>\n",
       "      <td>NaN</td>\n",
       "    </tr>\n",
       "    <tr>\n",
       "      <th>9</th>\n",
       "      <td>1</td>\n",
       "      <td>2000</td>\n",
       "      <td>NaN</td>\n",
       "      <td>62250.0</td>\n",
       "      <td>HomeImp</td>\n",
       "      <td>Sales</td>\n",
       "      <td>16.0</td>\n",
       "      <td>0.0</td>\n",
       "      <td>0.0</td>\n",
       "      <td>115.800000</td>\n",
       "      <td>0.0</td>\n",
       "      <td>13.0</td>\n",
       "      <td>NaN</td>\n",
       "    </tr>\n",
       "    <tr>\n",
       "      <th>10</th>\n",
       "      <td>1</td>\n",
       "      <td>2000</td>\n",
       "      <td>22608.0</td>\n",
       "      <td>NaN</td>\n",
       "      <td>NaN</td>\n",
       "      <td>NaN</td>\n",
       "      <td>18.0</td>\n",
       "      <td>NaN</td>\n",
       "      <td>NaN</td>\n",
       "      <td>NaN</td>\n",
       "      <td>NaN</td>\n",
       "      <td>NaN</td>\n",
       "      <td>NaN</td>\n",
       "    </tr>\n",
       "    <tr>\n",
       "      <th>11</th>\n",
       "      <td>1</td>\n",
       "      <td>2000</td>\n",
       "      <td>20627.0</td>\n",
       "      <td>29800.0</td>\n",
       "      <td>HomeImp</td>\n",
       "      <td>Office</td>\n",
       "      <td>11.0</td>\n",
       "      <td>0.0</td>\n",
       "      <td>1.0</td>\n",
       "      <td>122.533333</td>\n",
       "      <td>1.0</td>\n",
       "      <td>9.0</td>\n",
       "      <td>NaN</td>\n",
       "    </tr>\n",
       "    <tr>\n",
       "      <th>12</th>\n",
       "      <td>1</td>\n",
       "      <td>2000</td>\n",
       "      <td>45000.0</td>\n",
       "      <td>55000.0</td>\n",
       "      <td>HomeImp</td>\n",
       "      <td>Other</td>\n",
       "      <td>3.0</td>\n",
       "      <td>0.0</td>\n",
       "      <td>0.0</td>\n",
       "      <td>86.066667</td>\n",
       "      <td>2.0</td>\n",
       "      <td>25.0</td>\n",
       "      <td>NaN</td>\n",
       "    </tr>\n",
       "    <tr>\n",
       "      <th>13</th>\n",
       "      <td>0</td>\n",
       "      <td>2000</td>\n",
       "      <td>64536.0</td>\n",
       "      <td>87400.0</td>\n",
       "      <td>NaN</td>\n",
       "      <td>Mgr</td>\n",
       "      <td>2.5</td>\n",
       "      <td>0.0</td>\n",
       "      <td>0.0</td>\n",
       "      <td>147.133333</td>\n",
       "      <td>0.0</td>\n",
       "      <td>24.0</td>\n",
       "      <td>NaN</td>\n",
       "    </tr>\n",
       "    <tr>\n",
       "      <th>14</th>\n",
       "      <td>1</td>\n",
       "      <td>2100</td>\n",
       "      <td>71000.0</td>\n",
       "      <td>83850.0</td>\n",
       "      <td>HomeImp</td>\n",
       "      <td>Other</td>\n",
       "      <td>8.0</td>\n",
       "      <td>0.0</td>\n",
       "      <td>1.0</td>\n",
       "      <td>123.000000</td>\n",
       "      <td>0.0</td>\n",
       "      <td>16.0</td>\n",
       "      <td>NaN</td>\n",
       "    </tr>\n",
       "  </tbody>\n",
       "</table>\n",
       "</div>"
      ],
      "text/plain": [
       "    BAD  LOAN  MORTDUE     VALUE   REASON     JOB   YOJ  DEROG  DELINQ  \\\n",
       "0     1  1100  25860.0   39025.0  HomeImp   Other  10.5    0.0     0.0   \n",
       "1     1  1300  70053.0   68400.0  HomeImp   Other   7.0    0.0     2.0   \n",
       "2     1  1500  13500.0   16700.0  HomeImp   Other   4.0    0.0     0.0   \n",
       "3     1  1500      NaN       NaN      NaN     NaN   NaN    NaN     NaN   \n",
       "4     0  1700  97800.0  112000.0  HomeImp  Office   3.0    0.0     0.0   \n",
       "5     1  1700  30548.0   40320.0  HomeImp   Other   9.0    0.0     0.0   \n",
       "6     1  1800  48649.0   57037.0  HomeImp   Other   5.0    3.0     2.0   \n",
       "7     1  1800  28502.0   43034.0  HomeImp   Other  11.0    0.0     0.0   \n",
       "8     1  2000  32700.0   46740.0  HomeImp   Other   3.0    0.0     2.0   \n",
       "9     1  2000      NaN   62250.0  HomeImp   Sales  16.0    0.0     0.0   \n",
       "10    1  2000  22608.0       NaN      NaN     NaN  18.0    NaN     NaN   \n",
       "11    1  2000  20627.0   29800.0  HomeImp  Office  11.0    0.0     1.0   \n",
       "12    1  2000  45000.0   55000.0  HomeImp   Other   3.0    0.0     0.0   \n",
       "13    0  2000  64536.0   87400.0      NaN     Mgr   2.5    0.0     0.0   \n",
       "14    1  2100  71000.0   83850.0  HomeImp   Other   8.0    0.0     1.0   \n",
       "\n",
       "         CLAGE  NINQ  CLNO    DEBTINC  \n",
       "0    94.366667   1.0   9.0        NaN  \n",
       "1   121.833333   0.0  14.0        NaN  \n",
       "2   149.466667   1.0  10.0        NaN  \n",
       "3          NaN   NaN   NaN        NaN  \n",
       "4    93.333333   0.0  14.0        NaN  \n",
       "5   101.466002   1.0   8.0  37.113614  \n",
       "6    77.100000   1.0  17.0        NaN  \n",
       "7    88.766030   0.0   8.0  36.884894  \n",
       "8   216.933333   1.0  12.0        NaN  \n",
       "9   115.800000   0.0  13.0        NaN  \n",
       "10         NaN   NaN   NaN        NaN  \n",
       "11  122.533333   1.0   9.0        NaN  \n",
       "12   86.066667   2.0  25.0        NaN  \n",
       "13  147.133333   0.0  24.0        NaN  \n",
       "14  123.000000   0.0  16.0        NaN  "
      ]
     },
     "execution_count": 75,
     "metadata": {},
     "output_type": "execute_result"
    }
   ],
   "source": [
    "df.head(15)"
   ]
  },
  {
   "cell_type": "code",
   "execution_count": 76,
   "metadata": {},
   "outputs": [
    {
     "data": {
      "text/plain": [
       "Other      2388\n",
       "ProfExe    1276\n",
       "Office      948\n",
       "Mgr         767\n",
       "Self        193\n",
       "Sales       109\n",
       "Name: JOB, dtype: int64"
      ]
     },
     "execution_count": 76,
     "metadata": {},
     "output_type": "execute_result"
    }
   ],
   "source": [
    "df['JOB'].value_counts()"
   ]
  },
  {
   "cell_type": "code",
   "execution_count": 77,
   "metadata": {},
   "outputs": [
    {
     "name": "stdout",
     "output_type": "stream",
     "text": [
      "<class 'pandas.core.frame.DataFrame'>\n",
      "RangeIndex: 5960 entries, 0 to 5959\n",
      "Data columns (total 13 columns):\n",
      "BAD        5960 non-null int64\n",
      "LOAN       5960 non-null int64\n",
      "MORTDUE    5442 non-null float64\n",
      "VALUE      5848 non-null float64\n",
      "REASON     5708 non-null object\n",
      "JOB        5681 non-null object\n",
      "YOJ        5445 non-null float64\n",
      "DEROG      5252 non-null float64\n",
      "DELINQ     5380 non-null float64\n",
      "CLAGE      5652 non-null float64\n",
      "NINQ       5450 non-null float64\n",
      "CLNO       5738 non-null float64\n",
      "DEBTINC    4693 non-null float64\n",
      "dtypes: float64(9), int64(2), object(2)\n",
      "memory usage: 605.4+ KB\n"
     ]
    }
   ],
   "source": [
    "df.info()"
   ]
  },
  {
   "cell_type": "code",
   "execution_count": 78,
   "metadata": {},
   "outputs": [
    {
     "data": {
      "text/plain": [
       "BAD           0\n",
       "LOAN          0\n",
       "MORTDUE     518\n",
       "VALUE       112\n",
       "REASON      252\n",
       "JOB         279\n",
       "YOJ         515\n",
       "DEROG       708\n",
       "DELINQ      580\n",
       "CLAGE       308\n",
       "NINQ        510\n",
       "CLNO        222\n",
       "DEBTINC    1267\n",
       "dtype: int64"
      ]
     },
     "execution_count": 78,
     "metadata": {},
     "output_type": "execute_result"
    }
   ],
   "source": [
    "# missing values\n",
    "df.isna().sum()"
   ]
  },
  {
   "cell_type": "markdown",
   "metadata": {
    "collapsed": true
   },
   "source": [
    "# EDA"
   ]
  },
  {
   "cell_type": "code",
   "execution_count": 79,
   "metadata": {},
   "outputs": [],
   "source": [
    "from sklearn.ensemble import RandomForestClassifier\n",
    "import numpy as np"
   ]
  },
  {
   "cell_type": "code",
   "execution_count": 80,
   "metadata": {},
   "outputs": [
    {
     "data": {
      "text/plain": [
       "<Figure size 720x720 with 0 Axes>"
      ]
     },
     "execution_count": 80,
     "metadata": {},
     "output_type": "execute_result"
    },
    {
     "data": {
      "text/plain": [
       "<matplotlib.axes._subplots.AxesSubplot at 0x29350325080>"
      ]
     },
     "execution_count": 80,
     "metadata": {},
     "output_type": "execute_result"
    },
    {
     "data": {
      "text/plain": [
       "Text(0.5,1,'Features Correlation')"
      ]
     },
     "execution_count": 80,
     "metadata": {},
     "output_type": "execute_result"
    },
    {
     "data": {
      "image/png": "[encoded data removed]",
      "text/plain": [
       "<Figure size 720x720 with 2 Axes>"
      ]
     },
     "metadata": {},
     "output_type": "display_data"
    }
   ],
   "source": [
    "corr = df.corr()\n",
    "plt.figure(figsize=(10,10))\n",
    "sns.heatmap(data=corr)\n",
    "plt.title(\"Features Correlation\")"
   ]
  },
  {
   "cell_type": "markdown",
   "metadata": {},
   "source": [
    "We can see, the mortgage value (MORTDUE) and value of the property (VALUE) are highly correlated. The CLAGE (Age of oldest credit line in months) is the second most related feature with the predicted variable(BAD)."
   ]
  },
  {
   "cell_type": "code",
   "execution_count": 81,
   "metadata": {
    "collapsed": true
   },
   "outputs": [],
   "source": [
    "df_copy = df.copy()\n",
    "df.dropna(inplace=True)"
   ]
  },
  {
   "cell_type": "code",
   "execution_count": 82,
   "metadata": {
    "collapsed": true
   },
   "outputs": [],
   "source": [
    "df_for_fea_imp = df_copy.copy()\n",
    "\n",
    "df_for_fea_imp.dropna(inplace=True)"
   ]
  },
  {
   "cell_type": "code",
   "execution_count": 83,
   "metadata": {
    "collapsed": true
   },
   "outputs": [],
   "source": [
    "reason_map = {'DebtCon':1,'HomeImp':2}\n",
    "job_map = {'Other':1,'ProfExe':2,'Office':3,'Mgr':4,'Self':5,'Sales':6}\n",
    "\n",
    "df_for_fea_imp['REASON'] = df_for_fea_imp['REASON'].map(reason_map)\n",
    "df_for_fea_imp['JOB'] = df_for_fea_imp['JOB'].map(job_map)"
   ]
  },
  {
   "cell_type": "code",
   "execution_count": 84,
   "metadata": {
    "collapsed": true,
    "scrolled": true
   },
   "outputs": [],
   "source": [
    "labels = df_for_fea_imp.iloc[:,0].values\n",
    "data = df_for_fea_imp.iloc[:,1:].values"
   ]
  },
  {
   "cell_type": "code",
   "execution_count": 85,
   "metadata": {},
   "outputs": [
    {
     "data": {
      "text/plain": [
       "RandomForestClassifier(bootstrap=True, class_weight=None, criterion='gini',\n",
       "            max_depth=None, max_features='auto', max_leaf_nodes=None,\n",
       "            min_impurity_decrease=0.0, min_impurity_split=None,\n",
       "            min_samples_leaf=1, min_samples_split=2,\n",
       "            min_weight_fraction_leaf=0.0, n_estimators=500, n_jobs=-1,\n",
       "            oob_score=False, random_state=42, verbose=0, warm_start=False)"
      ]
     },
     "execution_count": 85,
     "metadata": {},
     "output_type": "execute_result"
    }
   ],
   "source": [
    "rnd_clf = RandomForestClassifier(n_estimators=500, n_jobs=-1, random_state=42)\n",
    "rnd_clf.fit(data,labels)"
   ]
  },
  {
   "cell_type": "code",
   "execution_count": 86,
   "metadata": {},
   "outputs": [
    {
     "name": "stdout",
     "output_type": "stream",
     "text": [
      "LOAN = 0.08246402132096152\n",
      "MORTDUE = 0.08427782008032972\n",
      "VALUE = 0.09755557424485878\n",
      "REASON = 0.012343733882544677\n",
      "JOB = 0.0396745247500965\n",
      "YOJ = 0.053742835098840445\n",
      "DEROG = 0.043282385061218974\n",
      "DELINQ = 0.08606557698554591\n",
      "CLAGE = 0.10963716956473374\n",
      "NINQ = 0.04551772713804537\n",
      "CLNO = 0.08262449416385316\n",
      "DEBTINC = 0.26281413770897105\n",
      "Importance: 12\n",
      "Columns: 12\n"
     ]
    },
    {
     "data": {
      "text/plain": [
       "<Figure size 720x720 with 0 Axes>"
      ]
     },
     "execution_count": 86,
     "metadata": {},
     "output_type": "execute_result"
    },
    {
     "data": {
      "text/plain": [
       "<BarContainer object of 12 artists>"
      ]
     },
     "execution_count": 86,
     "metadata": {},
     "output_type": "execute_result"
    },
    {
     "data": {
      "image/png": "[encoded data removed]",
      "text/plain": [
       "<Figure size 720x720 with 1 Axes>"
      ]
     },
     "metadata": {},
     "output_type": "display_data"
    }
   ],
   "source": [
    "temp_df = pd.DataFrame(data=df_for_fea_imp.columns[1:],columns=['name'])\n",
    "imps = []\n",
    "for name, importance in zip(df_for_fea_imp.columns[1:], rnd_clf.feature_importances_):\n",
    "    imps.append(importance)\n",
    "    print(name, \"=\", importance)\n",
    "print(\"Importance:\",len(imps))\n",
    "print(\"Columns:\",len(df_for_fea_imp.columns[1:]))\n",
    "temp_df['importances'] = imps\n",
    "\n",
    "temp_df = temp_df.sort_values(by='importances',ascending=False)\n",
    "plt.figure(figsize=(10,10))\n",
    "plt.bar(x=temp_df['name'].tolist(),height=temp_df['importances'].tolist(),align='center')"
   ]
  },
  {
   "cell_type": "markdown",
   "metadata": {},
   "source": [
    "Here we can see, DEBITINC has the highest importance followed by CLAGE and then VALUE. But the issue here is DEBITINC has the highest number of missing values."
   ]
  },
  {
   "cell_type": "markdown",
   "metadata": {},
   "source": [
    "--------------------------------------------------------------------------------------------------------------------------------"
   ]
  },
  {
   "cell_type": "markdown",
   "metadata": {},
   "source": [
    "## Distribution of Loan Amount"
   ]
  },
  {
   "cell_type": "code",
   "execution_count": 87,
   "metadata": {},
   "outputs": [
    {
     "data": {
      "text/plain": [
       "(array([ 10.,  22.,  69., 105., 179., 218., 229., 288., 230., 237., 245.,\n",
       "        217., 150., 162., 155., 128., 131., 138.,  78.,  53.,  47.,  47.,\n",
       "         26.,  21.,  21.,  14.,  16.,  15.,  11.,   4.,   5.,   6.,   9.,\n",
       "         12.,   9.,   9.,   0.,   0.,   3.,   6.,   1.,   3.,   2.,   8.,\n",
       "          3.,   3.,   5.,   2.,   0.,   0.,   0.,   1.,   0.,   0.,   0.,\n",
       "          0.,   0.,   0.,   3.,   8.]),\n",
       " array([ 1700.,  3170.,  4640.,  6110.,  7580.,  9050., 10520., 11990.,\n",
       "        13460., 14930., 16400., 17870., 19340., 20810., 22280., 23750.,\n",
       "        25220., 26690., 28160., 29630., 31100., 32570., 34040., 35510.,\n",
       "        36980., 38450., 39920., 41390., 42860., 44330., 45800., 47270.,\n",
       "        48740., 50210., 51680., 53150., 54620., 56090., 57560., 59030.,\n",
       "        60500., 61970., 63440., 64910., 66380., 67850., 69320., 70790.,\n",
       "        72260., 73730., 75200., 76670., 78140., 79610., 81080., 82550.,\n",
       "        84020., 85490., 86960., 88430., 89900.]),\n",
       " <a list of 60 Patch objects>)"
      ]
     },
     "execution_count": 87,
     "metadata": {},
     "output_type": "execute_result"
    },
    {
     "data": {
      "image/png": "[encoded data removed]",
      "text/plain": [
       "<Figure size 432x288 with 1 Axes>"
      ]
     },
     "metadata": {},
     "output_type": "display_data"
    }
   ],
   "source": [
    "plt.hist(df['LOAN'],bins=60)"
   ]
  },
  {
   "cell_type": "markdown",
   "metadata": {},
   "source": [
    "We can see the distribution is right skewed with most loans below 40000."
   ]
  },
  {
   "cell_type": "markdown",
   "metadata": {},
   "source": [
    "--------------------------------------------------------------------------------------------------------------------------------"
   ]
  },
  {
   "cell_type": "code",
   "execution_count": 88,
   "metadata": {},
   "outputs": [
    {
     "data": {
      "text/plain": [
       "(array([ 47.,  90., 108., 110., 119., 155., 299., 319., 314., 263., 269.,\n",
       "        220., 160., 159., 116.,  98.,  53.,  50.,  54.,  60.,  66.,  53.,\n",
       "         22.,   2.,   7.,   9.,  11.,  16.,  18.,  18.,  17.,   0.,   3.,\n",
       "          7.,  16.,  24.,   2.,   0.,   0.,   0.,   0.,   0.,   0.,   0.,\n",
       "          0.,   0.,   0.,   0.,   0.,   0.,   0.,   0.,   0.,   0.,   4.,\n",
       "          4.,   0.,   0.,   0.,   2.]),\n",
       " array([  5076.        ,  11648.26666667,  18220.53333333,  24792.8       ,\n",
       "         31365.06666667,  37937.33333333,  44509.6       ,  51081.86666667,\n",
       "         57654.13333333,  64226.4       ,  70798.66666667,  77370.93333333,\n",
       "         83943.2       ,  90515.46666667,  97087.73333333, 103660.        ,\n",
       "        110232.26666667, 116804.53333333, 123376.8       , 129949.06666667,\n",
       "        136521.33333333, 143093.6       , 149665.86666667, 156238.13333333,\n",
       "        162810.4       , 169382.66666667, 175954.93333333, 182527.2       ,\n",
       "        189099.46666667, 195671.73333333, 202244.        , 208816.26666667,\n",
       "        215388.53333333, 221960.8       , 228533.06666667, 235105.33333333,\n",
       "        241677.6       , 248249.86666667, 254822.13333333, 261394.4       ,\n",
       "        267966.66666667, 274538.93333333, 281111.2       , 287683.46666667,\n",
       "        294255.73333333, 300828.        , 307400.26666667, 313972.53333333,\n",
       "        320544.8       , 327117.06666667, 333689.33333333, 340261.6       ,\n",
       "        346833.86666667, 353406.13333333, 359978.4       , 366550.66666667,\n",
       "        373122.93333333, 379695.2       , 386267.46666667, 392839.73333333,\n",
       "        399412.        ]),\n",
       " <a list of 60 Patch objects>)"
      ]
     },
     "execution_count": 88,
     "metadata": {},
     "output_type": "execute_result"
    },
    {
     "data": {
      "image/png": "[encoded data removed]",
      "text/plain": [
       "<Figure size 432x288 with 1 Axes>"
      ]
     },
     "metadata": {},
     "output_type": "display_data"
    }
   ],
   "source": [
    "plt.hist(df['MORTDUE'].dropna(),bins=60)"
   ]
  },
  {
   "cell_type": "markdown",
   "metadata": {},
   "source": [
    "Even for mortage amount, the distribution is right skewed."
   ]
  },
  {
   "cell_type": "markdown",
   "metadata": {},
   "source": [
    "--------------------------------------------------------------------------------------------------------------------------------"
   ]
  },
  {
   "cell_type": "markdown",
   "metadata": {},
   "source": [
    "## Checking Statistics"
   ]
  },
  {
   "cell_type": "code",
   "execution_count": 89,
   "metadata": {
    "collapsed": true
   },
   "outputs": [],
   "source": [
    "#df = df_copy.copy()"
   ]
  },
  {
   "cell_type": "code",
   "execution_count": 90,
   "metadata": {},
   "outputs": [
    {
     "data": {
      "text/plain": [
       "BAD             0.089180\n",
       "LOAN        19154.399524\n",
       "MORTDUE     76249.621581\n",
       "VALUE      107501.385850\n",
       "YOJ             9.110285\n",
       "DEROG           0.146849\n",
       "DELINQ          0.278835\n",
       "CLAGE         180.993684\n",
       "NINQ            1.037455\n",
       "CLNO           22.114150\n",
       "DEBTINC        34.135451\n",
       "dtype: float64"
      ]
     },
     "execution_count": 90,
     "metadata": {},
     "output_type": "execute_result"
    }
   ],
   "source": [
    "df.mean()"
   ]
  },
  {
   "cell_type": "code",
   "execution_count": 91,
   "metadata": {},
   "outputs": [
    {
     "data": {
      "text/plain": [
       "BAD            0.000000\n",
       "LOAN       17000.000000\n",
       "MORTDUE    67278.500000\n",
       "VALUE      94453.500000\n",
       "YOJ            7.000000\n",
       "DEROG          0.000000\n",
       "DELINQ         0.000000\n",
       "CLAGE        176.742048\n",
       "NINQ           1.000000\n",
       "CLNO          21.000000\n",
       "DEBTINC       35.129484\n",
       "dtype: float64"
      ]
     },
     "execution_count": 91,
     "metadata": {},
     "output_type": "execute_result"
    }
   ],
   "source": [
    "df.median()"
   ]
  },
  {
   "cell_type": "markdown",
   "metadata": {},
   "source": [
    "We can see that the mean is greater than the median for majority of the numeric rows. That means the data is right skewed."
   ]
  },
  {
   "cell_type": "markdown",
   "metadata": {},
   "source": [
    "--------------------------------------------------------------------------------------------------------------------------------"
   ]
  },
  {
   "cell_type": "markdown",
   "metadata": {},
   "source": [
    "## Job Distribution"
   ]
  },
  {
   "cell_type": "code",
   "execution_count": 92,
   "metadata": {},
   "outputs": [
    {
     "data": {
      "text/plain": [
       "<matplotlib.collections.PathCollection at 0x2935030f6a0>"
      ]
     },
     "execution_count": 92,
     "metadata": {},
     "output_type": "execute_result"
    },
    {
     "data": {
      "text/plain": [
       "Text(0.5,0,'JOB')"
      ]
     },
     "execution_count": 92,
     "metadata": {},
     "output_type": "execute_result"
    },
    {
     "data": {
      "text/plain": [
       "<matplotlib.legend.Legend at 0x2935030fba8>"
      ]
     },
     "execution_count": 92,
     "metadata": {},
     "output_type": "execute_result"
    },
    {
     "data": {
      "text/plain": [
       "<matplotlib.collections.PathCollection at 0x2935030fbe0>"
      ]
     },
     "execution_count": 92,
     "metadata": {},
     "output_type": "execute_result"
    },
    {
     "data": {
      "text/plain": [
       "Text(0.5,0,'JOB')"
      ]
     },
     "execution_count": 92,
     "metadata": {},
     "output_type": "execute_result"
    },
    {
     "data": {
      "text/plain": [
       "<matplotlib.legend.Legend at 0x2935030f630>"
      ]
     },
     "execution_count": 92,
     "metadata": {},
     "output_type": "execute_result"
    },
    {
     "data": {
      "text/plain": [
       "<matplotlib.collections.PathCollection at 0x293518ac6a0>"
      ]
     },
     "execution_count": 92,
     "metadata": {},
     "output_type": "execute_result"
    },
    {
     "data": {
      "text/plain": [
       "Text(0.5,0,'JOB')"
      ]
     },
     "execution_count": 92,
     "metadata": {},
     "output_type": "execute_result"
    },
    {
     "data": {
      "text/plain": [
       "<matplotlib.legend.Legend at 0x293518ac550>"
      ]
     },
     "execution_count": 92,
     "metadata": {},
     "output_type": "execute_result"
    },
    {
     "data": {
      "text/plain": [
       "<matplotlib.collections.PathCollection at 0x2935189f390>"
      ]
     },
     "execution_count": 92,
     "metadata": {},
     "output_type": "execute_result"
    },
    {
     "data": {
      "text/plain": [
       "Text(0.5,0,'JOB')"
      ]
     },
     "execution_count": 92,
     "metadata": {},
     "output_type": "execute_result"
    },
    {
     "data": {
      "text/plain": [
       "<matplotlib.legend.Legend at 0x2935189feb8>"
      ]
     },
     "execution_count": 92,
     "metadata": {},
     "output_type": "execute_result"
    },
    {
     "data": {
      "text/plain": [
       "<matplotlib.collections.PathCollection at 0x293518ac7b8>"
      ]
     },
     "execution_count": 92,
     "metadata": {},
     "output_type": "execute_result"
    },
    {
     "data": {
      "text/plain": [
       "Text(0.5,0,'JOB')"
      ]
     },
     "execution_count": 92,
     "metadata": {},
     "output_type": "execute_result"
    },
    {
     "data": {
      "text/plain": [
       "<matplotlib.legend.Legend at 0x293518ac588>"
      ]
     },
     "execution_count": 92,
     "metadata": {},
     "output_type": "execute_result"
    },
    {
     "data": {
      "text/plain": [
       "<matplotlib.collections.PathCollection at 0x2935188cc50>"
      ]
     },
     "execution_count": 92,
     "metadata": {},
     "output_type": "execute_result"
    },
    {
     "data": {
      "text/plain": [
       "Text(0.5,0,'JOB')"
      ]
     },
     "execution_count": 92,
     "metadata": {},
     "output_type": "execute_result"
    },
    {
     "data": {
      "text/plain": [
       "<matplotlib.legend.Legend at 0x29351897a90>"
      ]
     },
     "execution_count": 92,
     "metadata": {},
     "output_type": "execute_result"
    },
    {
     "data": {
      "image/png": "[encoded data removed]",
      "text/plain": [
       "<Figure size 432x288 with 1 Axes>"
      ]
     },
     "metadata": {},
     "output_type": "display_data"
    }
   ],
   "source": [
    "job_vals = df['JOB'].value_counts().index\n",
    "\n",
    "for i in job_vals:\n",
    "    x = df[df['JOB']==i].shape[0]\n",
    "    plt.scatter(y=range(x),x=df.loc[df['JOB']==i]['MORTDUE'],alpha=1)\n",
    "    plt.xlabel(\"JOB\")\n",
    "    plt.legend(df['JOB'].value_counts().index)"
   ]
  },
  {
   "cell_type": "markdown",
   "metadata": {},
   "source": [
    "--------------------------------------------------------------------------------------------------------------------------------"
   ]
  },
  {
   "cell_type": "markdown",
   "metadata": {},
   "source": [
    "## Reason for Bad Loan"
   ]
  },
  {
   "cell_type": "code",
   "execution_count": 93,
   "metadata": {},
   "outputs": [
    {
     "data": {
      "text/plain": [
       "<matplotlib.collections.PathCollection at 0x2935188e860>"
      ]
     },
     "execution_count": 93,
     "metadata": {},
     "output_type": "execute_result"
    },
    {
     "data": {
      "text/plain": [
       "Text(0.5,0,'REASON')"
      ]
     },
     "execution_count": 93,
     "metadata": {},
     "output_type": "execute_result"
    },
    {
     "data": {
      "text/plain": [
       "<matplotlib.legend.Legend at 0x2935188ed68>"
      ]
     },
     "execution_count": 93,
     "metadata": {},
     "output_type": "execute_result"
    },
    {
     "data": {
      "text/plain": [
       "<matplotlib.collections.PathCollection at 0x293517f34e0>"
      ]
     },
     "execution_count": 93,
     "metadata": {},
     "output_type": "execute_result"
    },
    {
     "data": {
      "text/plain": [
       "Text(0.5,0,'REASON')"
      ]
     },
     "execution_count": 93,
     "metadata": {},
     "output_type": "execute_result"
    },
    {
     "data": {
      "text/plain": [
       "<matplotlib.legend.Legend at 0x29350569898>"
      ]
     },
     "execution_count": 93,
     "metadata": {},
     "output_type": "execute_result"
    },
    {
     "data": {
      "image/png": "[encoded data removed]",
      "text/plain": [
       "<Figure size 432x288 with 1 Axes>"
      ]
     },
     "metadata": {},
     "output_type": "display_data"
    }
   ],
   "source": [
    "job_vals = df['REASON'].value_counts().index\n",
    "\n",
    "for i in job_vals:\n",
    "    x = df[df['REASON']==i].shape[0]\n",
    "    plt.scatter(y=range(x),x=df.loc[df['REASON']==i]['MORTDUE'],alpha=1)\n",
    "    plt.xlabel(\"REASON\")\n",
    "    plt.legend(df['REASON'].value_counts().index)"
   ]
  },
  {
   "cell_type": "markdown",
   "metadata": {},
   "source": [
    "--------------------------------------------------------------------------------------------------------------------------------"
   ]
  },
  {
   "cell_type": "markdown",
   "metadata": {},
   "source": [
    "## Derogatory reports"
   ]
  },
  {
   "cell_type": "code",
   "execution_count": 100,
   "metadata": {
    "collapsed": true
   },
   "outputs": [],
   "source": [
    "t = df.groupby('DEROG')['BAD'].value_counts(sort=False)"
   ]
  },
  {
   "cell_type": "code",
   "execution_count": 101,
   "metadata": {},
   "outputs": [
    {
     "data": {
      "text/plain": [
       "DEROG  BAD\n",
       "0.0    0      2830\n",
       "       1       222\n",
       "1.0    0       168\n",
       "       1        32\n",
       "2.0    0        57\n",
       "       1        22\n",
       "3.0    0         9\n",
       "       1        13\n",
       "4.0    1         3\n",
       "5.0    1         1\n",
       "6.0    1         2\n",
       "7.0    1         2\n",
       "8.0    1         1\n",
       "9.0    1         1\n",
       "10.0   1         1\n",
       "Name: BAD, dtype: int64"
      ]
     },
     "execution_count": 101,
     "metadata": {},
     "output_type": "execute_result"
    }
   ],
   "source": [
    "t"
   ]
  },
  {
   "cell_type": "markdown",
   "metadata": {},
   "source": [
    "We would assume that having a higher number of derogatory reports for a certain individual would have a bad loan. But the data shows a different pattern."
   ]
  },
  {
   "cell_type": "code",
   "execution_count": 102,
   "metadata": {
    "collapsed": true
   },
   "outputs": [],
   "source": [
    "ind = list(t.index.get_level_values(0).unique())\n",
    "\n",
    "zeros = []\n",
    "ones = []\n",
    "for i in range(4):\n",
    "    zeros.append(t[i][0])\n",
    "    ones.append(t[i][1])\n",
    "\n",
    "for i in range(4,11):\n",
    "    ones.append(t[i][1])\n",
    "\n",
    "for i in range(len(ones) - len(zeros)):\n",
    "    zeros.append(0)"
   ]
  },
  {
   "cell_type": "code",
   "execution_count": 103,
   "metadata": {},
   "outputs": [
    {
     "name": "stdout",
     "output_type": "stream",
     "text": [
      "Zeros shape: 11\n",
      "Ones shape: 11\n",
      "Index shape: 11\n"
     ]
    }
   ],
   "source": [
    "print(\"Zeros shape:\",len(zeros))\n",
    "print(\"Ones shape:\",len(ones))\n",
    "print(\"Index shape:\",len(ind))"
   ]
  },
  {
   "cell_type": "code",
   "execution_count": 104,
   "metadata": {},
   "outputs": [
    {
     "data": {
      "text/plain": [
       "Text(0.5,0,'No. of Derogatory Reports')"
      ]
     },
     "execution_count": 104,
     "metadata": {},
     "output_type": "execute_result"
    },
    {
     "data": {
      "text/plain": [
       "Text(0,0.5,'No of Bad Loans')"
      ]
     },
     "execution_count": 104,
     "metadata": {},
     "output_type": "execute_result"
    },
    {
     "data": {
      "text/plain": [
       "([<matplotlib.axis.XTick at 0x29351b97438>,\n",
       "  <matplotlib.axis.XTick at 0x29351b757f0>,\n",
       "  <matplotlib.axis.XTick at 0x29351bb9278>,\n",
       "  <matplotlib.axis.XTick at 0x29351bea470>,\n",
       "  <matplotlib.axis.XTick at 0x29351bea940>,\n",
       "  <matplotlib.axis.XTick at 0x29351beae10>,\n",
       "  <matplotlib.axis.XTick at 0x29351bf0358>,\n",
       "  <matplotlib.axis.XTick at 0x29351bf0898>,\n",
       "  <matplotlib.axis.XTick at 0x29351bf0dd8>,\n",
       "  <matplotlib.axis.XTick at 0x29351bea400>,\n",
       "  <matplotlib.axis.XTick at 0x29351bf0438>],\n",
       " <a list of 11 Text xticklabel objects>)"
      ]
     },
     "execution_count": 104,
     "metadata": {},
     "output_type": "execute_result"
    },
    {
     "data": {
      "text/plain": [
       "<matplotlib.legend.Legend at 0x29351bcd898>"
      ]
     },
     "execution_count": 104,
     "metadata": {},
     "output_type": "execute_result"
    },
    {
     "data": {
      "image/png": "[encoded data removed]",
      "text/plain": [
       "<Figure size 720x720 with 1 Axes>"
      ]
     },
     "metadata": {},
     "output_type": "display_data"
    }
   ],
   "source": [
    "fig,ax = plt.subplots()\n",
    "fig.set_size_inches(10,10)\n",
    "a = plt.bar(x=np.arange(len(zeros)), height=zeros,width=0.2,color='b',align='center',label=\"Not Bad\")\n",
    "b = plt.bar(x=np.arange(len(ones))+0.2, height=ones,width=0.2,color='g',align='center',label=\"Bad\")\n",
    "plt.xlabel(\"No. of Derogatory Reports\")\n",
    "plt.ylabel(\"No of Bad Loans\")\n",
    "plt.xticks(ind)\n",
    "plt.legend()\n",
    "plt.tight_layout()"
   ]
  },
  {
   "cell_type": "markdown",
   "metadata": {},
   "source": [
    "As we can see, even though people have no derogatory reports, they have the max number of bad loans. But, its counter intuitive, i.e. the bad loan count decreases as number of derogatory reports increase. But there is something amiss here!"
   ]
  },
  {
   "cell_type": "code",
   "execution_count": 105,
   "metadata": {},
   "outputs": [
    {
     "name": "stdout",
     "output_type": "stream",
     "text": [
      "The ratio of Defaulters for %d derogatory reports are: %d 0 0.0727391874180865\n",
      "The ratio of Defaulters for %d derogatory reports are: %d 1 0.16\n",
      "The ratio of Defaulters for %d derogatory reports are: %d 2 0.27848101265822783\n",
      "The ratio of Defaulters for %d derogatory reports are: %d 3 0.5909090909090909\n",
      "The ratio of Defaulters for %d derogatory reports are: %d 4 1.0\n",
      "The ratio of Defaulters for %d derogatory reports are: %d 5 1.0\n",
      "The ratio of Defaulters for %d derogatory reports are: %d 6 1.0\n",
      "The ratio of Defaulters for %d derogatory reports are: %d 7 1.0\n",
      "The ratio of Defaulters for %d derogatory reports are: %d 8 1.0\n",
      "The ratio of Defaulters for %d derogatory reports are: %d 9 1.0\n",
      "The ratio of Defaulters for %d derogatory reports are: %d 10 1.0\n",
      "No %d derogatory reports data available. 11\n",
      "No %d derogatory reports data available. 12\n",
      "No %d derogatory reports data available. 13\n",
      "No %d derogatory reports data available. 14\n"
     ]
    }
   ],
   "source": [
    "# Ratio of deliquency \n",
    "ratios = []\n",
    "for i in range(len(t)):\n",
    "    try:\n",
    "        s = t[i].sum()\n",
    "        ratio = t[i][1]/s\n",
    "        ratios.append(ratio)\n",
    "        print(\"The ratio of Defaulters for %d derogatory reports are: %d\",i,ratio)\n",
    "    except:\n",
    "        print(\"No %d derogatory reports data available.\",i)"
   ]
  },
  {
   "cell_type": "markdown",
   "metadata": {},
   "source": [
    "We can see that the ratio is increasing, as the number of derogatory reports increase. Looking at the absolute number of bad loans, gives us a wrong estimate."
   ]
  },
  {
   "cell_type": "code",
   "execution_count": 106,
   "metadata": {},
   "outputs": [
    {
     "data": {
      "text/plain": [
       "<BarContainer object of 11 artists>"
      ]
     },
     "execution_count": 106,
     "metadata": {},
     "output_type": "execute_result"
    },
    {
     "data": {
      "text/plain": [
       "([<matplotlib.axis.XTick at 0x29351b9b940>,\n",
       "  <matplotlib.axis.XTick at 0x29351b6ba20>,\n",
       "  <matplotlib.axis.XTick at 0x29351b908d0>,\n",
       "  <matplotlib.axis.XTick at 0x29351c63c18>,\n",
       "  <matplotlib.axis.XTick at 0x29351c63860>,\n",
       "  <matplotlib.axis.XTick at 0x29351c6c5f8>,\n",
       "  <matplotlib.axis.XTick at 0x29351c6cb00>,\n",
       "  <matplotlib.axis.XTick at 0x29351c6c438>,\n",
       "  <matplotlib.axis.XTick at 0x29351c745c0>,\n",
       "  <matplotlib.axis.XTick at 0x29351c74b00>,\n",
       "  <matplotlib.axis.XTick at 0x29351c74400>],\n",
       " <a list of 11 Text xticklabel objects>)"
      ]
     },
     "execution_count": 106,
     "metadata": {},
     "output_type": "execute_result"
    },
    {
     "data": {
      "image/png": "[encoded data removed]",
      "text/plain": [
       "<Figure size 432x288 with 1 Axes>"
      ]
     },
     "metadata": {},
     "output_type": "display_data"
    }
   ],
   "source": [
    "ind = t.index.get_level_values(0).unique()\n",
    "\n",
    "plt.bar(x=ind,height=ratios)\n",
    "plt.xticks(ind)"
   ]
  },
  {
   "cell_type": "markdown",
   "metadata": {},
   "source": [
    "As we see, the increase in number of derogatory reports results in the increase in the ratio of bad loans among customers"
   ]
  },
  {
   "cell_type": "markdown",
   "metadata": {},
   "source": [
    "--------------------------------------------------------------------------------------------------------------------------------"
   ]
  },
  {
   "cell_type": "markdown",
   "metadata": {},
   "source": [
    "## Delinquent Credit Lines"
   ]
  },
  {
   "cell_type": "code",
   "execution_count": 107,
   "metadata": {},
   "outputs": [
    {
     "data": {
      "text/plain": [
       "0.0     2824\n",
       "1.0      324\n",
       "2.0      124\n",
       "3.0       50\n",
       "4.0       21\n",
       "6.0        7\n",
       "5.0        6\n",
       "7.0        6\n",
       "10.0       1\n",
       "8.0        1\n",
       "Name: DELINQ, dtype: int64"
      ]
     },
     "execution_count": 107,
     "metadata": {},
     "output_type": "execute_result"
    }
   ],
   "source": [
    "df['DELINQ'].value_counts()"
   ]
  },
  {
   "cell_type": "code",
   "execution_count": 108,
   "metadata": {
    "collapsed": true
   },
   "outputs": [],
   "source": [
    "delinq_groups = df.groupby('DELINQ')['BAD'].value_counts(sort=False)"
   ]
  },
  {
   "cell_type": "code",
   "execution_count": 109,
   "metadata": {},
   "outputs": [
    {
     "data": {
      "text/plain": [
       "DELINQ  BAD\n",
       "0.0     0      2635\n",
       "        1       189\n",
       "1.0     0       282\n",
       "        1        42\n",
       "2.0     0        95\n",
       "        1        29\n",
       "3.0     0        39\n",
       "        1        11\n",
       "4.0     0        13\n",
       "        1         8\n",
       "5.0     1         6\n",
       "6.0     1         7\n",
       "7.0     1         6\n",
       "8.0     1         1\n",
       "10.0    1         1\n",
       "Name: BAD, dtype: int64"
      ]
     },
     "execution_count": 109,
     "metadata": {},
     "output_type": "execute_result"
    }
   ],
   "source": [
    "delinq_groups"
   ]
  },
  {
   "cell_type": "markdown",
   "metadata": {},
   "source": [
    "Same as number of derogatory reports, it seems delinquent credit lines also doesnt provide much of a relationship with defaulting a loan. But think again!!!"
   ]
  },
  {
   "cell_type": "code",
   "execution_count": 110,
   "metadata": {},
   "outputs": [
    {
     "name": "stdout",
     "output_type": "stream",
     "text": [
      "The ratio of Defaulters for %d delinquent credit lines are: %d 0 0.06692634560906516\n",
      "The ratio of Defaulters for %d delinquent credit lines are: %d 1 0.12962962962962962\n",
      "The ratio of Defaulters for %d delinquent credit lines are: %d 2 0.23387096774193547\n",
      "The ratio of Defaulters for %d delinquent credit lines are: %d 3 0.22\n",
      "The ratio of Defaulters for %d delinquent credit lines are: %d 4 0.38095238095238093\n",
      "The ratio of Defaulters for %d delinquent credit lines are: %d 5 1.0\n",
      "The ratio of Defaulters for %d delinquent credit lines are: %d 6 1.0\n",
      "The ratio of Defaulters for %d delinquent credit lines are: %d 7 1.0\n",
      "The ratio of Defaulters for %d delinquent credit lines are: %d 8 1.0\n",
      "No %d delinquent credit lines data available. 9\n",
      "The ratio of Defaulters for %d delinquent credit lines are: %d 10 1.0\n",
      "No %d delinquent credit lines data available. 11\n",
      "No %d delinquent credit lines data available. 12\n",
      "No %d delinquent credit lines data available. 13\n",
      "No %d delinquent credit lines data available. 14\n"
     ]
    }
   ],
   "source": [
    "# Ratio of deliquency \n",
    "ratios = []\n",
    "for i in range(len(delinq_groups)):\n",
    "    try:\n",
    "        s = delinq_groups[i].sum()\n",
    "        ratio = delinq_groups[i][1]/s\n",
    "        ratios.append(ratio)\n",
    "        print(\"The ratio of Defaulters for %d delinquent credit lines are: %d\",i,ratio)\n",
    "    except:\n",
    "        print(\"No %d delinquent credit lines data available.\",i)"
   ]
  },
  {
   "cell_type": "code",
   "execution_count": 111,
   "metadata": {},
   "outputs": [
    {
     "data": {
      "text/plain": [
       "<BarContainer object of 10 artists>"
      ]
     },
     "execution_count": 111,
     "metadata": {},
     "output_type": "execute_result"
    },
    {
     "data": {
      "text/plain": [
       "([<matplotlib.axis.XTick at 0x29351b90d30>,\n",
       "  <matplotlib.axis.XTick at 0x29351c4f2e8>,\n",
       "  <matplotlib.axis.XTick at 0x29351c9f048>,\n",
       "  <matplotlib.axis.XTick at 0x29351eef7b8>,\n",
       "  <matplotlib.axis.XTick at 0x29351eefc88>,\n",
       "  <matplotlib.axis.XTick at 0x29351ef7208>,\n",
       "  <matplotlib.axis.XTick at 0x29351ef76a0>,\n",
       "  <matplotlib.axis.XTick at 0x29351ef7be0>,\n",
       "  <matplotlib.axis.XTick at 0x29351ef7a20>,\n",
       "  <matplotlib.axis.XTick at 0x29351eff6a0>],\n",
       " <a list of 10 Text xticklabel objects>)"
      ]
     },
     "execution_count": 111,
     "metadata": {},
     "output_type": "execute_result"
    },
    {
     "data": {
      "image/png": "[encoded data removed]",
      "text/plain": [
       "<Figure size 432x288 with 1 Axes>"
      ]
     },
     "metadata": {},
     "output_type": "display_data"
    }
   ],
   "source": [
    "ind = delinq_groups.index.get_level_values(0).unique()\n",
    "\n",
    "plt.bar(x=ind,height=ratios)\n",
    "plt.xticks(ind)"
   ]
  },
  {
   "cell_type": "markdown",
   "metadata": {},
   "source": [
    "As we see, as the number of deliquent reports increase, the ratio of customers defaulting on a loan increases to the toal number of customer."
   ]
  },
  {
   "cell_type": "markdown",
   "metadata": {},
   "source": [
    "--------------------------------------------------------------------------------------------------------------------------------"
   ]
  },
  {
   "cell_type": "markdown",
   "metadata": {
    "collapsed": true
   },
   "source": [
    "## CLAGE "
   ]
  },
  {
   "cell_type": "code",
   "execution_count": 112,
   "metadata": {},
   "outputs": [
    {
     "data": {
      "text/plain": [
       "(array([  5.,   6.,  12.,  20.,  37.,  76., 122., 174., 164., 195., 225.,\n",
       "        183., 132., 134., 183., 208., 207., 194., 148., 140., 158.,  99.,\n",
       "         93.,  84.,  79.,  68.,  65.,  41.,  24.,  27.,  18.,   7.,   3.,\n",
       "          1.,  10.,   0.,   2.,   2.,   0.,   0.,   0.,   0.,   0.,   0.,\n",
       "          0.,   0.,   0.,   0.,   0.,   0.,   0.,   0.,   2.,   9.,   4.,\n",
       "          2.,   0.,   0.,   0.,   0.,   0.,   0.,   0.,   0.,   0.,   0.,\n",
       "          0.,   0.,   0.,   0.,   0.,   0.,   0.,   0.,   0.,   0.,   0.,\n",
       "          0.,   0.,   0.,   0.,   0.,   0.,   0.,   0.,   0.,   0.,   0.,\n",
       "          0.,   0.,   0.,   0.,   0.,   0.,   0.,   0.,   0.,   0.,   0.,\n",
       "          1.]),\n",
       " array([4.86711451e-01, 1.21641799e+01, 2.38416484e+01, 3.55191169e+01,\n",
       "        4.71965854e+01, 5.88740539e+01, 7.05515224e+01, 8.22289909e+01,\n",
       "        9.39064594e+01, 1.05583928e+02, 1.17261396e+02, 1.28938865e+02,\n",
       "        1.40616333e+02, 1.52293802e+02, 1.63971270e+02, 1.75648739e+02,\n",
       "        1.87326207e+02, 1.99003676e+02, 2.10681144e+02, 2.22358613e+02,\n",
       "        2.34036081e+02, 2.45713550e+02, 2.57391018e+02, 2.69068487e+02,\n",
       "        2.80745955e+02, 2.92423424e+02, 3.04100892e+02, 3.15778361e+02,\n",
       "        3.27455829e+02, 3.39133298e+02, 3.50810766e+02, 3.62488235e+02,\n",
       "        3.74165703e+02, 3.85843172e+02, 3.97520640e+02, 4.09198109e+02,\n",
       "        4.20875577e+02, 4.32553046e+02, 4.44230514e+02, 4.55907983e+02,\n",
       "        4.67585451e+02, 4.79262920e+02, 4.90940388e+02, 5.02617857e+02,\n",
       "        5.14295325e+02, 5.25972794e+02, 5.37650262e+02, 5.49327731e+02,\n",
       "        5.61005199e+02, 5.72682668e+02, 5.84360136e+02, 5.96037605e+02,\n",
       "        6.07715073e+02, 6.19392542e+02, 6.31070010e+02, 6.42747479e+02,\n",
       "        6.54424947e+02, 6.66102416e+02, 6.77779884e+02, 6.89457353e+02,\n",
       "        7.01134821e+02, 7.12812290e+02, 7.24489758e+02, 7.36167227e+02,\n",
       "        7.47844695e+02, 7.59522164e+02, 7.71199632e+02, 7.82877101e+02,\n",
       "        7.94554569e+02, 8.06232038e+02, 8.17909506e+02, 8.29586975e+02,\n",
       "        8.41264443e+02, 8.52941912e+02, 8.64619380e+02, 8.76296849e+02,\n",
       "        8.87974317e+02, 8.99651786e+02, 9.11329254e+02, 9.23006723e+02,\n",
       "        9.34684191e+02, 9.46361660e+02, 9.58039128e+02, 9.69716596e+02,\n",
       "        9.81394065e+02, 9.93071533e+02, 1.00474900e+03, 1.01642647e+03,\n",
       "        1.02810394e+03, 1.03978141e+03, 1.05145888e+03, 1.06313634e+03,\n",
       "        1.07481381e+03, 1.08649128e+03, 1.09816875e+03, 1.10984622e+03,\n",
       "        1.12152369e+03, 1.13320116e+03, 1.14487862e+03, 1.15655609e+03,\n",
       "        1.16823356e+03]),\n",
       " <a list of 100 Patch objects>)"
      ]
     },
     "execution_count": 112,
     "metadata": {},
     "output_type": "execute_result"
    },
    {
     "data": {
      "image/png": "[encoded data removed]",
      "text/plain": [
       "<Figure size 432x288 with 1 Axes>"
      ]
     },
     "metadata": {},
     "output_type": "display_data"
    }
   ],
   "source": [
    "plt.hist(df['CLAGE'],bins=100)"
   ]
  },
  {
   "cell_type": "markdown",
   "metadata": {
    "collapsed": true
   },
   "source": [
    "This slightly resembles a normal distribution of data, right skewed. "
   ]
  },
  {
   "cell_type": "markdown",
   "metadata": {
    "collapsed": true
   },
   "source": [
    "CLAGE doesnt seem to have any apparent relationship with any of the other features as well as the predicting variable."
   ]
  },
  {
   "cell_type": "markdown",
   "metadata": {
    "collapsed": true
   },
   "source": [
    "## DEBTINC"
   ]
  },
  {
   "cell_type": "code",
   "execution_count": 113,
   "metadata": {},
   "outputs": [
    {
     "data": {
      "text/plain": [
       "5       37.113614\n",
       "7       36.884894\n",
       "19      31.588503\n",
       "25      38.263601\n",
       "26      29.681827\n",
       "34      30.051136\n",
       "35      29.915859\n",
       "36      36.211348\n",
       "37      49.206396\n",
       "38      32.059783\n",
       "56      42.909997\n",
       "59      35.730559\n",
       "67      29.393543\n",
       "69      20.470916\n",
       "70      26.634348\n",
       "          ...    \n",
       "5927    29.582301\n",
       "5928    30.378548\n",
       "5929    29.220351\n",
       "5934    40.929793\n",
       "5949    36.088037\n",
       "5950    36.753653\n",
       "5951    36.262691\n",
       "5952    34.751158\n",
       "5953    34.242465\n",
       "5954    34.818262\n",
       "5955    36.112347\n",
       "5956    35.859971\n",
       "5957    35.556590\n",
       "5958    34.340882\n",
       "5959    34.571519\n",
       "Name: DEBTINC, Length: 3364, dtype: float64"
      ]
     },
     "execution_count": 113,
     "metadata": {},
     "output_type": "execute_result"
    }
   ],
   "source": [
    "df['DEBTINC']"
   ]
  },
  {
   "cell_type": "code",
   "execution_count": 114,
   "metadata": {},
   "outputs": [
    {
     "data": {
      "text/plain": [
       "(array([  2.,   2.,   4.,   2.,   5.,   0.,   0.,   0.,   6.,   5.,  13.,\n",
       "         22.,  34.,  51.,  65.,  82., 112., 130., 155., 172., 169., 169.,\n",
       "        213., 284., 313., 302., 303., 325., 216., 118.,  25.,  11.,  14.,\n",
       "          6.,   3.,   1.,   3.,   1.,   1.,   3.,   1.,   2.,   2.,   1.,\n",
       "          3.,   1.,   1.,   1.,   1.,   2.,   1.,   0.,   1.,   0.,   1.,\n",
       "          0.,   0.,   0.,   0.,   0.,   0.,   0.,   0.,   1.,   0.,   0.,\n",
       "          0.,   0.,   0.,   0.,   0.,   0.,   0.,   0.,   0.,   0.,   0.,\n",
       "          0.,   1.,   0.,   0.,   0.,   0.,   0.,   0.,   0.,   0.,   0.,\n",
       "          0.,   0.,   0.,   0.,   0.,   0.,   0.,   0.,   0.,   0.,   0.,\n",
       "          2.]), array([  0.83811753,   2.27162636,   3.7051352 ,   5.13864404,\n",
       "          6.57215288,   8.00566171,   9.43917055,  10.87267939,\n",
       "         12.30618823,  13.73969706,  15.1732059 ,  16.60671474,\n",
       "         18.04022358,  19.47373241,  20.90724125,  22.34075009,\n",
       "         23.77425893,  25.20776777,  26.6412766 ,  28.07478544,\n",
       "         29.50829428,  30.94180312,  32.37531195,  33.80882079,\n",
       "         35.24232963,  36.67583847,  38.1093473 ,  39.54285614,\n",
       "         40.97636498,  42.40987382,  43.84338265,  45.27689149,\n",
       "         46.71040033,  48.14390917,  49.57741801,  51.01092684,\n",
       "         52.44443568,  53.87794452,  55.31145336,  56.74496219,\n",
       "         58.17847103,  59.61197987,  61.04548871,  62.47899754,\n",
       "         63.91250638,  65.34601522,  66.77952406,  68.21303289,\n",
       "         69.64654173,  71.08005057,  72.51355941,  73.94706825,\n",
       "         75.38057708,  76.81408592,  78.24759476,  79.6811036 ,\n",
       "         81.11461243,  82.54812127,  83.98163011,  85.41513895,\n",
       "         86.84864778,  88.28215662,  89.71566546,  91.1491743 ,\n",
       "         92.58268313,  94.01619197,  95.44970081,  96.88320965,\n",
       "         98.31671849,  99.75022732, 101.18373616, 102.617245  ,\n",
       "        104.05075384, 105.48426267, 106.91777151, 108.35128035,\n",
       "        109.78478919, 111.21829802, 112.65180686, 114.0853157 ,\n",
       "        115.51882454, 116.95233337, 118.38584221, 119.81935105,\n",
       "        121.25285989, 122.68636873, 124.11987756, 125.5533864 ,\n",
       "        126.98689524, 128.42040408, 129.85391291, 131.28742175,\n",
       "        132.72093059, 134.15443943, 135.58794826, 137.0214571 ,\n",
       "        138.45496594, 139.88847478, 141.32198361, 142.75549245,\n",
       "        144.18900129]), <a list of 100 Patch objects>)"
      ]
     },
     "execution_count": 114,
     "metadata": {},
     "output_type": "execute_result"
    },
    {
     "data": {
      "image/png": "[encoded data removed]",
      "text/plain": [
       "<Figure size 432x288 with 1 Axes>"
      ]
     },
     "metadata": {},
     "output_type": "display_data"
    }
   ],
   "source": [
    "plt.hist(df['DEBTINC'],bins=100)"
   ]
  },
  {
   "cell_type": "markdown",
   "metadata": {},
   "source": [
    "The only column in the feature space to be left skewed as mean is lesser than the median."
   ]
  },
  {
   "cell_type": "code",
   "execution_count": 115,
   "metadata": {},
   "outputs": [
    {
     "data": {
      "text/plain": [
       "BAD\n",
       "0    33.595725\n",
       "1    39.647852\n",
       "Name: DEBTINC, dtype: float64"
      ]
     },
     "execution_count": 115,
     "metadata": {},
     "output_type": "execute_result"
    }
   ],
   "source": [
    "df.groupby('BAD')['DEBTINC'].mean()"
   ]
  },
  {
   "cell_type": "code",
   "execution_count": 116,
   "metadata": {},
   "outputs": [
    {
     "data": {
      "text/plain": [
       "REASON\n",
       "DebtCon    34.233592\n",
       "HomeImp    33.901788\n",
       "Name: DEBTINC, dtype: float64"
      ]
     },
     "execution_count": 116,
     "metadata": {},
     "output_type": "execute_result"
    }
   ],
   "source": [
    "df.groupby('REASON')['DEBTINC'].mean()"
   ]
  },
  {
   "cell_type": "markdown",
   "metadata": {},
   "source": [
    "# Features Correlations"
   ]
  },
  {
   "cell_type": "markdown",
   "metadata": {
    "collapsed": true
   },
   "source": [
    "# Classifiers"
   ]
  },
  {
   "cell_type": "code",
   "execution_count": 117,
   "metadata": {
    "collapsed": true
   },
   "outputs": [],
   "source": [
    "from sklearn.base import BaseEstimator, TransformerMixin, RegressorMixin, clone\n",
    "from sklearn.model_selection import GridSearchCV\n",
    "from sklearn.model_selection import KFold, cross_val_score, train_test_split\n",
    "from sklearn.metrics import mean_squared_error\n",
    "import xgboost as XGBClassifier\n",
    "from sklearn.linear_model import LogisticRegression\n",
    "from sklearn.svm import SVC\n",
    "import lightgbm as lgb\n",
    "from sklearn.preprocessing import StandardScaler\n",
    "import numpy as np\n",
    "from sklearn.metrics import confusion_matrix, f1_score, accuracy_score, matthews_corrcoef, roc_auc_score, recall_score, precision_score"
   ]
  },
  {
   "cell_type": "code",
   "execution_count": 118,
   "metadata": {},
   "outputs": [
    {
     "data": {
      "text/plain": [
       "0    3064\n",
       "1     300\n",
       "Name: BAD, dtype: int64"
      ]
     },
     "execution_count": 118,
     "metadata": {},
     "output_type": "execute_result"
    }
   ],
   "source": [
    "df['BAD'].value_counts()"
   ]
  },
  {
   "cell_type": "code",
   "execution_count": 119,
   "metadata": {
    "collapsed": true
   },
   "outputs": [],
   "source": [
    "#unimportant columns as seen from the importance of features table above\n",
    "df.drop(columns=['JOB','REASON','DEROG','NINQ'],inplace=True)"
   ]
  },
  {
   "cell_type": "code",
   "execution_count": 120,
   "metadata": {},
   "outputs": [
    {
     "data": {
      "text/plain": [
       "\"\\nreason_map = {'DebtCon':1,'HomeImp':2}\\njob_map = {'Other':1,'ProfExe':2,'Office':3,'Mgr':4,'Self':5,'Sales':6}\\n\\ndf['REASON'] = df['REASON'].map(reason_map)\\ndf['JOB'] = df['JOB'].map(job_map)\\n\""
      ]
     },
     "execution_count": 120,
     "metadata": {},
     "output_type": "execute_result"
    }
   ],
   "source": [
    "'''\n",
    "reason_map = {'DebtCon':1,'HomeImp':2}\n",
    "job_map = {'Other':1,'ProfExe':2,'Office':3,'Mgr':4,'Self':5,'Sales':6}\n",
    "\n",
    "df['REASON'] = df['REASON'].map(reason_map)\n",
    "df['JOB'] = df['JOB'].map(job_map)\n",
    "'''"
   ]
  },
  {
   "cell_type": "code",
   "execution_count": 121,
   "metadata": {
    "collapsed": true
   },
   "outputs": [],
   "source": [
    "df_good = df[df['BAD']==0]\n",
    "df_bad = df[df['BAD']==1].sample(n=len(df_good),replace=True) #upsampling the lesser class, to equalize the number of samples\n",
    "\n",
    "df_good = df_good.sample(frac=1)\n",
    "df_bad = df_bad.sample(frac=1)\n",
    "\n",
    "df_train_good = df_good.iloc[200:]\n",
    "df_train_bad = df_bad.iloc[200:]\n",
    "\n",
    "df_train = df_train_good.append(df_train_bad)"
   ]
  },
  {
   "cell_type": "code",
   "execution_count": 122,
   "metadata": {
    "collapsed": true
   },
   "outputs": [],
   "source": [
    "df_test_good = df_good.iloc[:200]\n",
    "df_test_bad = df_bad.iloc[:200]\n",
    "\n",
    "df_test = df_test_good.append(df_test_bad)"
   ]
  },
  {
   "cell_type": "code",
   "execution_count": 123,
   "metadata": {
    "collapsed": true
   },
   "outputs": [],
   "source": [
    "y_train = df_train['BAD'].tolist()\n",
    "y_test = df_test['BAD'].tolist()\n",
    "\n",
    "df_train.drop(columns=['BAD'],inplace=True)\n",
    "df_test.drop(columns=['BAD'],inplace=True)"
   ]
  },
  {
   "cell_type": "code",
   "execution_count": 124,
   "metadata": {
    "collapsed": true
   },
   "outputs": [],
   "source": [
    "x_train = df_train.values\n",
    "x_test = df_test.values"
   ]
  },
  {
   "cell_type": "code",
   "execution_count": 125,
   "metadata": {},
   "outputs": [
    {
     "data": {
      "text/plain": [
       "(5728, 8)"
      ]
     },
     "execution_count": 125,
     "metadata": {},
     "output_type": "execute_result"
    }
   ],
   "source": [
    "x_train.shape"
   ]
  },
  {
   "cell_type": "code",
   "execution_count": 126,
   "metadata": {},
   "outputs": [
    {
     "data": {
      "text/plain": [
       "1    2864\n",
       "0    2864\n",
       "dtype: int64"
      ]
     },
     "execution_count": 126,
     "metadata": {},
     "output_type": "execute_result"
    }
   ],
   "source": [
    "pd.Series(y_train).value_counts()"
   ]
  },
  {
   "cell_type": "code",
   "execution_count": 127,
   "metadata": {},
   "outputs": [
    {
     "data": {
      "text/plain": [
       "(400, 8)"
      ]
     },
     "execution_count": 127,
     "metadata": {},
     "output_type": "execute_result"
    }
   ],
   "source": [
    "x_test.shape"
   ]
  },
  {
   "cell_type": "markdown",
   "metadata": {},
   "source": [
    "## XGBoost"
   ]
  },
  {
   "cell_type": "code",
   "execution_count": 128,
   "metadata": {
    "collapsed": true
   },
   "outputs": [],
   "source": [
    "grid_params = {\n",
    "    'n_estimator' : [100,500,1000],\n",
    "    'min_child_weight' : [1,3,5,7],\n",
    "    'max_depth' : [5,7,10],\n",
    "    'learning_rate' : [0.01,0.001,0.0001],\n",
    "    'gamma' : [0,1,2,3,4,5,6,7],\n",
    "    'subsample' : [0.8,0.9,1.0],\n",
    "    'colsample_bytree' : [0.8,0.9,1],\n",
    "    #'eval_metric' : ['auc','error','logloss']\n",
    "}"
   ]
  },
  {
   "cell_type": "code",
   "execution_count": 129,
   "metadata": {},
   "outputs": [
    {
     "data": {
      "text/plain": [
       "'\\ngd_sr = GridSearchCV(estimator=xgb_model,\\n                    param_grid = grid_params,\\n                    n_jobs = -1,\\n                    cv = 5)\\n'"
      ]
     },
     "execution_count": 129,
     "metadata": {},
     "output_type": "execute_result"
    }
   ],
   "source": [
    "'''\n",
    "gd_sr = GridSearchCV(estimator=xgb_model,\n",
    "                    param_grid = grid_params,\n",
    "                    n_jobs = -1,\n",
    "                    cv = 5)\n",
    "'''"
   ]
  },
  {
   "cell_type": "code",
   "execution_count": 130,
   "metadata": {
    "collapsed": true
   },
   "outputs": [],
   "source": [
    "#parameters tuned with GridSearchCV\n",
    "\n",
    "xgb_model = XGBClassifier.XGBClassifier(base_score=0.5, booster='gbtree', colsample_bylevel=1,\n",
    "       colsample_bytree=1, gamma=0, learning_rate=0.01, max_delta_step=0,\n",
    "       max_depth=5, min_child_weight=1, missing=None, n_estimator=100,\n",
    "       n_estimators=100, n_jobs=1, nthread=None,\n",
    "       objective='binary:logistic', predictor='gpu_predictor',\n",
    "       random_state=0, reg_alpha=0, reg_lambda=1, scale_pos_weight=1,\n",
    "       seed=None, silent=True, subsample=1.0)"
   ]
  },
  {
   "cell_type": "code",
   "execution_count": 131,
   "metadata": {},
   "outputs": [
    {
     "data": {
      "text/plain": [
       "XGBClassifier(base_score=0.5, booster='gbtree', colsample_bylevel=1,\n",
       "       colsample_bytree=1, gamma=0, learning_rate=0.01, max_delta_step=0,\n",
       "       max_depth=5, min_child_weight=1, missing=None, n_estimator=100,\n",
       "       n_estimators=100, n_jobs=1, nthread=None,\n",
       "       objective='binary:logistic', predictor='gpu_predictor',\n",
       "       random_state=0, reg_alpha=0, reg_lambda=1, scale_pos_weight=1,\n",
       "       seed=None, silent=True, subsample=1.0)"
      ]
     },
     "execution_count": 131,
     "metadata": {},
     "output_type": "execute_result"
    }
   ],
   "source": [
    "xgb_model.fit(x_train,y_train)"
   ]
  },
  {
   "cell_type": "code",
   "execution_count": 132,
   "metadata": {},
   "outputs": [
    {
     "name": "stderr",
     "output_type": "stream",
     "text": [
      "E:\\Users\\Nate\\Anaconda3\\lib\\site-packages\\sklearn\\preprocessing\\label.py:151: DeprecationWarning:\n",
      "\n",
      "The truth value of an empty array is ambiguous. Returning False, but in future this will result in an error. Use `array.size > 0` to check that an array is not empty.\n",
      "\n"
     ]
    }
   ],
   "source": [
    "preds = xgb_model.predict(x_test)"
   ]
  },
  {
   "cell_type": "code",
   "execution_count": 133,
   "metadata": {},
   "outputs": [
    {
     "name": "stdout",
     "output_type": "stream",
     "text": [
      "Confusion Matrix:\n",
      "[[180  20]\n",
      " [ 54 146]]\n",
      "180 20 54 146\n",
      "Accuracy Score: 0.815\n",
      "Recall Score: 0.73\n",
      "Precision Score: 0.8795180722891566\n",
      "f1 score: 0.7978142076502732\n",
      "Matthew Correlation Coefficient: 0.6393056938253822\n",
      "ROC AUC score: 0.815\n"
     ]
    }
   ],
   "source": [
    "conf = confusion_matrix(y_test,preds)\n",
    "TN, FP, FN, TP = confusion_matrix(y_test,preds).ravel()\n",
    "print(\"Confusion Matrix:\")\n",
    "print(conf)\n",
    "print(TN,FP,FN,TP)\n",
    "print(\"Accuracy Score:\",accuracy_score(y_test,preds))\n",
    "print(\"Recall Score:\",recall_score(y_test,preds))\n",
    "print(\"Precision Score:\",precision_score(y_test,preds))\n",
    "print(\"f1 score:\",f1_score(y_test,preds))\n",
    "print(\"Matthew Correlation Coefficient:\",matthews_corrcoef(y_test,preds))\n",
    "print(\"ROC AUC score:\", roc_auc_score(y_test,preds))"
   ]
  },
  {
   "cell_type": "markdown",
   "metadata": {
    "collapsed": true
   },
   "source": [
    "## Logistic Regression"
   ]
  },
  {
   "cell_type": "code",
   "execution_count": 134,
   "metadata": {
    "collapsed": true
   },
   "outputs": [],
   "source": [
    "log_grid_params = {\n",
    "    'C' : [0.001, 0.01, 0.1, 1, 10, 100, 1000],\n",
    "    'penalty' : ['l1'],\n",
    "    #'solver' : ['liblinear','sag','saga']\n",
    "}"
   ]
  },
  {
   "cell_type": "code",
   "execution_count": 135,
   "metadata": {
    "collapsed": true
   },
   "outputs": [],
   "source": [
    "# Hyperparameters tuned with GridSearchCV\n",
    "lr = LogisticRegression(C=1, class_weight=None, dual=False, fit_intercept=True,\n",
    "          intercept_scaling=1, max_iter=100, multi_class='ovr', n_jobs=1,\n",
    "          penalty='l1', random_state=None, solver='liblinear', tol=0.0001,\n",
    "          verbose=0, warm_start=False)"
   ]
  },
  {
   "cell_type": "code",
   "execution_count": 136,
   "metadata": {},
   "outputs": [
    {
     "data": {
      "text/plain": [
       "\"\\nlog_reg_grid = GridSearchCV(estimator=lr,\\n                           param_grid = log_grid_params,\\n                           scoring = 'accuracy', \\n                           cv = 5,\\n                           n_jobs = -1)\\n\""
      ]
     },
     "execution_count": 136,
     "metadata": {},
     "output_type": "execute_result"
    }
   ],
   "source": [
    "\n",
    "'''\n",
    "log_reg_grid = GridSearchCV(estimator=lr,\n",
    "                           param_grid = log_grid_params,\n",
    "                           scoring = 'accuracy', \n",
    "                           cv = 5,\n",
    "                           n_jobs = -1)\n",
    "'''"
   ]
  },
  {
   "cell_type": "code",
   "execution_count": 137,
   "metadata": {},
   "outputs": [
    {
     "data": {
      "text/plain": [
       "LogisticRegression(C=1, class_weight=None, dual=False, fit_intercept=True,\n",
       "          intercept_scaling=1, max_iter=100, multi_class='ovr', n_jobs=1,\n",
       "          penalty='l1', random_state=None, solver='liblinear', tol=0.0001,\n",
       "          verbose=0, warm_start=False)"
      ]
     },
     "execution_count": 137,
     "metadata": {},
     "output_type": "execute_result"
    }
   ],
   "source": [
    "lr.fit(x_train,y_train)"
   ]
  },
  {
   "cell_type": "code",
   "execution_count": 138,
   "metadata": {
    "collapsed": true
   },
   "outputs": [],
   "source": [
    "log_preds = lr.predict(x_test)"
   ]
  },
  {
   "cell_type": "code",
   "execution_count": 139,
   "metadata": {},
   "outputs": [
    {
     "name": "stdout",
     "output_type": "stream",
     "text": [
      "Confusion Matrix:\n",
      "[[158  42]\n",
      " [ 81 119]]\n",
      "180 20 54 146\n",
      "Accuracy Score: 0.6925\n",
      "Recall Score: 0.595\n",
      "Precision Score: 0.7391304347826086\n",
      "f1 score: 0.6592797783933517\n",
      "Matthew Correlation Coefficient: 0.39253540712041146\n",
      "ROC AUC score: 0.6925\n"
     ]
    }
   ],
   "source": [
    "conf = confusion_matrix(y_test,log_preds)\n",
    "TN, FP, FN, TP = confusion_matrix(y_test,preds).ravel()\n",
    "print(\"Confusion Matrix:\")\n",
    "print(conf)\n",
    "print(TN,FP,FN,TP)\n",
    "print(\"Accuracy Score:\",accuracy_score(y_test,log_preds))\n",
    "print(\"Recall Score:\",recall_score(y_test,log_preds))\n",
    "print(\"Precision Score:\",precision_score(y_test,log_preds))\n",
    "print(\"f1 score:\",f1_score(y_test,log_preds))\n",
    "print(\"Matthew Correlation Coefficient:\",matthews_corrcoef(y_test,log_preds))\n",
    "print(\"ROC AUC score:\", roc_auc_score(y_test,log_preds))"
   ]
  },
  {
   "cell_type": "markdown",
   "metadata": {
    "collapsed": true
   },
   "source": [
    "# Future Scope"
   ]
  },
  {
   "cell_type": "markdown",
   "metadata": {},
   "source": [
    "I am planning to implement the following things:\n",
    "\n",
    "1) Improving the quality of EDA\n"
   ]
  },
  {
   "cell_type": "markdown",
   "metadata": {},
   "source": [
    "2) Trying out more ML classification Algorithms"
   ]
  },
  {
   "cell_type": "markdown",
   "metadata": {},
   "source": [
    "3) Trying out some sort of Feature Engineering"
   ]
  },
  {
   "cell_type": "markdown",
   "metadata": {},
   "source": [
    "4) Ensembling the models"
   ]
  },
  {
   "cell_type": "markdown",
   "metadata": {},
   "source": [
    "5) Filling missing data instead of removing it"
   ]
  }
 ],
 "metadata": {
  "kernelspec": {
   "display_name": "Python 3",
   "language": "python",
   "name": "python3"
  },
  "language_info": {
   "codemirror_mode": {
    "name": "ipython",
    "version": 3
   },
   "file_extension": ".py",
   "mimetype": "text/x-python",
   "name": "python",
   "nbconvert_exporter": "python",
   "pygments_lexer": "ipython3",
   "version": "3.6.6"
  }
 },
 "nbformat": 4,
 "nbformat_minor": 2
}
